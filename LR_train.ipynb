{
 "cells": [
  {
   "cell_type": "code",
   "execution_count": 34,
   "metadata": {},
   "outputs": [],
   "source": [
    "import numpy as np\n",
    "from sklearn.linear_model import LogisticRegressionCV as lrcv\n",
    "from sklearn.externals import joblib"
   ]
  },
  {
   "cell_type": "code",
   "execution_count": 12,
   "metadata": {},
   "outputs": [],
   "source": [
    "def get_data(train_file,test_file):\n",
    "    lr_train_label=np.genfromtxt(train_file,delimiter=',',dtype=np.int64,usecols=-1)\n",
    "    use_list=list(range(0,118))\n",
    "    lr_train_feature=np.genfromtxt(train_file,delimiter=',',dtype=np.int64,usecols=use_list)\n",
    "    lr_test_label=np.genfromtxt(test_file,delimiter=',',dtype=np.int64,usecols=-1)\n",
    "    use_list1=list(range(0,118))\n",
    "    lr_test_feature=np.genfromtxt(test_file,delimiter=',',dtype=np.int64,usecols=use_list1)\n",
    "    return lr_train_label,lr_train_feature,lr_test_label,lr_test_feature"
   ]
  },
  {
   "cell_type": "code",
   "execution_count": 36,
   "metadata": {},
   "outputs": [],
   "source": [
    "def lr_train_model(train_file,test_file,lr_coef_file,lr_model_file):\n",
    "    lr_train_label,lr_train_feature,lr_test_label,lr_test_feature=get_data(train_file,test_file)\n",
    "    lr_cf=lrcv(Cs=[1],penalty='l2',tol=0.0001,max_iter=500,cv=5)\n",
    "    lr_train=lr_cf.fit(lr_train_feature,lr_train_label)\n",
    "    scores=list(lr_train.scores_.values())[0]\n",
    "    print(scores)\n",
    "    print(scores.mean(axis=0))\n",
    "    lr_cf=lrcv(Cs=[1],penalty='l2',tol=0.0001,max_iter=500,cv=5,scoring='roc_auc')\n",
    "    lr_train=lr_cf.fit(lr_train_feature,lr_train_label)\n",
    "    scores=list(lr_train.scores_.values())[0]\n",
    "    coef=list(lr_train.coef_)[0]\n",
    "    fp=open(lr_coef_file,'w+')\n",
    "    fp.write(','.join([str(ele) for ele in coef]))\n",
    "    fp.close()\n",
    "    joblib.dump(lr_train,lr_model_file)\n",
    "    print(scores)\n",
    "    print(scores.mean(axis=0))"
   ]
  },
  {
   "cell_type": "code",
   "execution_count": 38,
   "metadata": {},
   "outputs": [
    {
     "name": "stdout",
     "output_type": "stream",
     "text": [
      "[[0.84236698]\n",
      " [0.83656556]\n",
      " [0.84435604]\n",
      " [0.84399867]\n",
      " [0.84596253]]\n",
      "[0.84264996]\n",
      "[[0.89936085]\n",
      " [0.88945696]\n",
      " [0.90239116]\n",
      " [0.90273438]\n",
      " [0.90143664]]\n",
      "[0.899076]\n"
     ]
    }
   ],
   "source": [
    "if __name__=='__main__':\n",
    "    lr_train_model('train_out.txt','test_out.txt','lr_coef','lr_model_file')"
   ]
  },
  {
   "cell_type": "code",
   "execution_count": null,
   "metadata": {},
   "outputs": [],
   "source": []
  }
 ],
 "metadata": {
  "kernelspec": {
   "display_name": "Python 3",
   "language": "python",
   "name": "python3"
  },
  "language_info": {
   "codemirror_mode": {
    "name": "ipython",
    "version": 3
   },
   "file_extension": ".py",
   "mimetype": "text/x-python",
   "name": "python",
   "nbconvert_exporter": "python",
   "pygments_lexer": "ipython3",
   "version": "3.7.0"
  }
 },
 "nbformat": 4,
 "nbformat_minor": 2
}
